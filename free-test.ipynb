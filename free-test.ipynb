{
 "cells": [
  {
   "cell_type": "code",
   "execution_count": 1,
   "metadata": {},
   "outputs": [],
   "source": [
    "import numpy as np"
   ]
  },
  {
   "cell_type": "code",
   "execution_count": 2,
   "metadata": {},
   "outputs": [
    {
     "name": "stdout",
     "output_type": "stream",
     "text": [
      "[2 0 6 5 1 4 3]\n"
     ]
    }
   ],
   "source": [
    "idx = np.random.permutation(7)\n",
    "print(idx)"
   ]
  },
  {
   "cell_type": "code",
   "execution_count": 3,
   "metadata": {},
   "outputs": [],
   "source": [
    "arr = np.random.rand(7)"
   ]
  },
  {
   "cell_type": "code",
   "execution_count": 4,
   "metadata": {},
   "outputs": [
    {
     "name": "stdout",
     "output_type": "stream",
     "text": [
      "[0.67482209 0.98885923 0.607253   0.91167785 0.55365771 0.02661943\n",
      " 0.48511966]\n"
     ]
    }
   ],
   "source": [
    "print(arr)"
   ]
  },
  {
   "cell_type": "code",
   "execution_count": 5,
   "metadata": {},
   "outputs": [],
   "source": [
    "arr = arr[idx]"
   ]
  },
  {
   "cell_type": "code",
   "execution_count": 6,
   "metadata": {},
   "outputs": [
    {
     "name": "stdout",
     "output_type": "stream",
     "text": [
      "[0.607253   0.67482209 0.48511966 0.02661943 0.98885923 0.55365771\n",
      " 0.91167785]\n"
     ]
    }
   ],
   "source": [
    "print(arr)"
   ]
  },
  {
   "cell_type": "code",
   "execution_count": 7,
   "metadata": {},
   "outputs": [
    {
     "name": "stdout",
     "output_type": "stream",
     "text": [
      "float64\n"
     ]
    }
   ],
   "source": [
    "a = np.random.rand(3)\n",
    "print(a.dtype)"
   ]
  },
  {
   "cell_type": "code",
   "execution_count": 8,
   "metadata": {},
   "outputs": [
    {
     "name": "stdout",
     "output_type": "stream",
     "text": [
      "float32\n"
     ]
    }
   ],
   "source": [
    "a = np.random.rand(3).astype('f')\n",
    "print(a.dtype)"
   ]
  },
  {
   "cell_type": "code",
   "execution_count": 22,
   "metadata": {},
   "outputs": [],
   "source": [
    "corpus_size = 1001\n",
    "batch_size = 10\n",
    "time_size = 5\n",
    "time_idx = 0\n",
    "jump = (corpus_size - 1) // batch_size\n",
    "offsets = [i * jump for i in range(batch_size)]"
   ]
  },
  {
   "cell_type": "code",
   "execution_count": 23,
   "metadata": {},
   "outputs": [
    {
     "name": "stdout",
     "output_type": "stream",
     "text": [
      "Index 0 Offset 0\n",
      "Index 1 Offset 100\n",
      "Index 2 Offset 200\n",
      "Index 3 Offset 300\n",
      "Index 4 Offset 400\n",
      "Index 5 Offset 500\n",
      "Index 6 Offset 600\n",
      "Index 7 Offset 700\n",
      "Index 8 Offset 800\n",
      "Index 9 Offset 900\n",
      "Index 0 Offset 0\n",
      "Index 1 Offset 100\n",
      "Index 2 Offset 200\n",
      "Index 3 Offset 300\n",
      "Index 4 Offset 400\n",
      "Index 5 Offset 500\n",
      "Index 6 Offset 600\n",
      "Index 7 Offset 700\n",
      "Index 8 Offset 800\n",
      "Index 9 Offset 900\n",
      "Index 0 Offset 0\n",
      "Index 1 Offset 100\n",
      "Index 2 Offset 200\n",
      "Index 3 Offset 300\n",
      "Index 4 Offset 400\n",
      "Index 5 Offset 500\n",
      "Index 6 Offset 600\n",
      "Index 7 Offset 700\n",
      "Index 8 Offset 800\n",
      "Index 9 Offset 900\n",
      "Index 0 Offset 0\n",
      "Index 1 Offset 100\n",
      "Index 2 Offset 200\n",
      "Index 3 Offset 300\n",
      "Index 4 Offset 400\n",
      "Index 5 Offset 500\n",
      "Index 6 Offset 600\n",
      "Index 7 Offset 700\n",
      "Index 8 Offset 800\n",
      "Index 9 Offset 900\n",
      "Index 0 Offset 0\n",
      "Index 1 Offset 100\n",
      "Index 2 Offset 200\n",
      "Index 3 Offset 300\n",
      "Index 4 Offset 400\n",
      "Index 5 Offset 500\n",
      "Index 6 Offset 600\n",
      "Index 7 Offset 700\n",
      "Index 8 Offset 800\n",
      "Index 9 Offset 900\n"
     ]
    }
   ],
   "source": [
    "for t in range(time_size):\n",
    "    for i, offset in enumerate(offsets):\n",
    "        #print(\"Time\",time_idx)\n",
    "        print(\"Index\",i,\"Offset\",offset)\n",
    "        #print(offset+time_idx)\n",
    "    time_idx += 1"
   ]
  },
  {
   "cell_type": "code",
   "execution_count": null,
   "metadata": {},
   "outputs": [],
   "source": []
  }
 ],
 "metadata": {
  "kernelspec": {
   "display_name": "Python 3",
   "language": "python",
   "name": "python3"
  },
  "language_info": {
   "codemirror_mode": {
    "name": "ipython",
    "version": 3
   },
   "file_extension": ".py",
   "mimetype": "text/x-python",
   "name": "python",
   "nbconvert_exporter": "python",
   "pygments_lexer": "ipython3",
   "version": "3.7.7"
  }
 },
 "nbformat": 4,
 "nbformat_minor": 4
}
