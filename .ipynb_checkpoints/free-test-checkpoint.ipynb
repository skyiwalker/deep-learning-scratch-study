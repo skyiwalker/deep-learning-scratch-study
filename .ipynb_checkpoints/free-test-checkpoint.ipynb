{
 "cells": [
  {
   "cell_type": "code",
   "execution_count": 1,
   "metadata": {},
   "outputs": [],
   "source": [
    "import numpy as np"
   ]
  },
  {
   "cell_type": "code",
   "execution_count": 2,
   "metadata": {},
   "outputs": [
    {
     "name": "stdout",
     "output_type": "stream",
     "text": [
      "[2 0 6 5 1 4 3]\n"
     ]
    }
   ],
   "source": [
    "idx = np.random.permutation(7)\n",
    "print(idx)"
   ]
  },
  {
   "cell_type": "code",
   "execution_count": 3,
   "metadata": {},
   "outputs": [],
   "source": [
    "arr = np.random.rand(7)"
   ]
  },
  {
   "cell_type": "code",
   "execution_count": 4,
   "metadata": {},
   "outputs": [
    {
     "name": "stdout",
     "output_type": "stream",
     "text": [
      "[0.67482209 0.98885923 0.607253   0.91167785 0.55365771 0.02661943\n",
      " 0.48511966]\n"
     ]
    }
   ],
   "source": [
    "print(arr)"
   ]
  },
  {
   "cell_type": "code",
   "execution_count": 5,
   "metadata": {},
   "outputs": [],
   "source": [
    "arr = arr[idx]"
   ]
  },
  {
   "cell_type": "code",
   "execution_count": 6,
   "metadata": {},
   "outputs": [
    {
     "name": "stdout",
     "output_type": "stream",
     "text": [
      "[0.607253   0.67482209 0.48511966 0.02661943 0.98885923 0.55365771\n",
      " 0.91167785]\n"
     ]
    }
   ],
   "source": [
    "print(arr)"
   ]
  },
  {
   "cell_type": "code",
   "execution_count": 7,
   "metadata": {},
   "outputs": [
    {
     "name": "stdout",
     "output_type": "stream",
     "text": [
      "float64\n"
     ]
    }
   ],
   "source": [
    "a = np.random.rand(3)\n",
    "print(a.dtype)"
   ]
  },
  {
   "cell_type": "code",
   "execution_count": 8,
   "metadata": {},
   "outputs": [
    {
     "name": "stdout",
     "output_type": "stream",
     "text": [
      "float32\n"
     ]
    }
   ],
   "source": [
    "a = np.random.rand(3).astype('f')\n",
    "print(a.dtype)"
   ]
  },
  {
   "cell_type": "code",
   "execution_count": 18,
   "metadata": {},
   "outputs": [],
   "source": [
    "corpus_size = 1000\n",
    "batch_size = 10\n",
    "time_size = 5\n",
    "time_idx = 0\n",
    "jump = (corpus_size - 1) // batch_size\n",
    "offsets = [i * jump for i in range(batch_size)]"
   ]
  },
  {
   "cell_type": "code",
   "execution_count": 19,
   "metadata": {},
   "outputs": [
    {
     "name": "stdout",
     "output_type": "stream",
     "text": [
      "Time 0\n",
      "Index 0 Offset 0\n",
      "0\n",
      "Time 0\n",
      "Index 1 Offset 99\n",
      "99\n",
      "Time 0\n",
      "Index 2 Offset 198\n",
      "198\n",
      "Time 0\n",
      "Index 3 Offset 297\n",
      "297\n",
      "Time 0\n",
      "Index 4 Offset 396\n",
      "396\n",
      "Time 0\n",
      "Index 5 Offset 495\n",
      "495\n",
      "Time 0\n",
      "Index 6 Offset 594\n",
      "594\n",
      "Time 0\n",
      "Index 7 Offset 693\n",
      "693\n",
      "Time 0\n",
      "Index 8 Offset 792\n",
      "792\n",
      "Time 0\n",
      "Index 9 Offset 891\n",
      "891\n",
      "Time 1\n",
      "Index 0 Offset 0\n",
      "1\n",
      "Time 1\n",
      "Index 1 Offset 99\n",
      "100\n",
      "Time 1\n",
      "Index 2 Offset 198\n",
      "199\n",
      "Time 1\n",
      "Index 3 Offset 297\n",
      "298\n",
      "Time 1\n",
      "Index 4 Offset 396\n",
      "397\n",
      "Time 1\n",
      "Index 5 Offset 495\n",
      "496\n",
      "Time 1\n",
      "Index 6 Offset 594\n",
      "595\n",
      "Time 1\n",
      "Index 7 Offset 693\n",
      "694\n",
      "Time 1\n",
      "Index 8 Offset 792\n",
      "793\n",
      "Time 1\n",
      "Index 9 Offset 891\n",
      "892\n",
      "Time 2\n",
      "Index 0 Offset 0\n",
      "2\n",
      "Time 2\n",
      "Index 1 Offset 99\n",
      "101\n",
      "Time 2\n",
      "Index 2 Offset 198\n",
      "200\n",
      "Time 2\n",
      "Index 3 Offset 297\n",
      "299\n",
      "Time 2\n",
      "Index 4 Offset 396\n",
      "398\n",
      "Time 2\n",
      "Index 5 Offset 495\n",
      "497\n",
      "Time 2\n",
      "Index 6 Offset 594\n",
      "596\n",
      "Time 2\n",
      "Index 7 Offset 693\n",
      "695\n",
      "Time 2\n",
      "Index 8 Offset 792\n",
      "794\n",
      "Time 2\n",
      "Index 9 Offset 891\n",
      "893\n",
      "Time 3\n",
      "Index 0 Offset 0\n",
      "3\n",
      "Time 3\n",
      "Index 1 Offset 99\n",
      "102\n",
      "Time 3\n",
      "Index 2 Offset 198\n",
      "201\n",
      "Time 3\n",
      "Index 3 Offset 297\n",
      "300\n",
      "Time 3\n",
      "Index 4 Offset 396\n",
      "399\n",
      "Time 3\n",
      "Index 5 Offset 495\n",
      "498\n",
      "Time 3\n",
      "Index 6 Offset 594\n",
      "597\n",
      "Time 3\n",
      "Index 7 Offset 693\n",
      "696\n",
      "Time 3\n",
      "Index 8 Offset 792\n",
      "795\n",
      "Time 3\n",
      "Index 9 Offset 891\n",
      "894\n",
      "Time 4\n",
      "Index 0 Offset 0\n",
      "4\n",
      "Time 4\n",
      "Index 1 Offset 99\n",
      "103\n",
      "Time 4\n",
      "Index 2 Offset 198\n",
      "202\n",
      "Time 4\n",
      "Index 3 Offset 297\n",
      "301\n",
      "Time 4\n",
      "Index 4 Offset 396\n",
      "400\n",
      "Time 4\n",
      "Index 5 Offset 495\n",
      "499\n",
      "Time 4\n",
      "Index 6 Offset 594\n",
      "598\n",
      "Time 4\n",
      "Index 7 Offset 693\n",
      "697\n",
      "Time 4\n",
      "Index 8 Offset 792\n",
      "796\n",
      "Time 4\n",
      "Index 9 Offset 891\n",
      "895\n"
     ]
    }
   ],
   "source": [
    "for t in range(time_size):\n",
    "    for i, offset in enumerate(offsets):\n",
    "        #print(\"Time\",time_idx)\n",
    "        print(\"Index\",i,\"Offset\",offset)\n",
    "        #print(offset+time_idx)\n",
    "    time_idx += 1"
   ]
  },
  {
   "cell_type": "code",
   "execution_count": null,
   "metadata": {},
   "outputs": [],
   "source": []
  }
 ],
 "metadata": {
  "kernelspec": {
   "display_name": "Python 3",
   "language": "python",
   "name": "python3"
  },
  "language_info": {
   "codemirror_mode": {
    "name": "ipython",
    "version": 3
   },
   "file_extension": ".py",
   "mimetype": "text/x-python",
   "name": "python",
   "nbconvert_exporter": "python",
   "pygments_lexer": "ipython3",
   "version": "3.7.7"
  }
 },
 "nbformat": 4,
 "nbformat_minor": 4
}
