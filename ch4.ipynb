{
 "cells": [
  {
   "cell_type": "markdown",
   "metadata": {},
   "source": [
    "# Embedding 구현 예시"
   ]
  },
  {
   "cell_type": "code",
   "execution_count": 1,
   "metadata": {},
   "outputs": [],
   "source": [
    "import numpy as np"
   ]
  },
  {
   "cell_type": "code",
   "execution_count": 2,
   "metadata": {},
   "outputs": [],
   "source": [
    "W = np.arange(21).reshape(7,3)"
   ]
  },
  {
   "cell_type": "code",
   "execution_count": 3,
   "metadata": {},
   "outputs": [
    {
     "data": {
      "text/plain": [
       "array([[ 0,  1,  2],\n",
       "       [ 3,  4,  5],\n",
       "       [ 6,  7,  8],\n",
       "       [ 9, 10, 11],\n",
       "       [12, 13, 14],\n",
       "       [15, 16, 17],\n",
       "       [18, 19, 20]])"
      ]
     },
     "execution_count": 3,
     "metadata": {},
     "output_type": "execute_result"
    }
   ],
   "source": [
    "W"
   ]
  },
  {
   "cell_type": "code",
   "execution_count": 4,
   "metadata": {},
   "outputs": [
    {
     "data": {
      "text/plain": [
       "array([6, 7, 8])"
      ]
     },
     "execution_count": 4,
     "metadata": {},
     "output_type": "execute_result"
    }
   ],
   "source": [
    "W[2]"
   ]
  },
  {
   "cell_type": "markdown",
   "metadata": {},
   "source": [
    "위와 같이 하면 특정 행 추출이 되는 것임"
   ]
  },
  {
   "cell_type": "code",
   "execution_count": 5,
   "metadata": {},
   "outputs": [],
   "source": [
    "idx = np.array([1,0,3,0])"
   ]
  },
  {
   "cell_type": "code",
   "execution_count": 6,
   "metadata": {},
   "outputs": [
    {
     "data": {
      "text/plain": [
       "array([[ 3,  4,  5],\n",
       "       [ 0,  1,  2],\n",
       "       [ 9, 10, 11],\n",
       "       [ 0,  1,  2]])"
      ]
     },
     "execution_count": 6,
     "metadata": {},
     "output_type": "execute_result"
    }
   ],
   "source": [
    "W[idx]"
   ]
  },
  {
   "cell_type": "markdown",
   "metadata": {},
   "source": [
    "위와 같이 특정 행을 뽑아내는 것도 가능 (미니배치 예시)"
   ]
  },
  {
   "cell_type": "markdown",
   "metadata": {},
   "source": [
    "# 4.3.1 CBOW 모델 구현"
   ]
  },
  {
   "cell_type": "code",
   "execution_count": 8,
   "metadata": {},
   "outputs": [
    {
     "name": "stdout",
     "output_type": "stream",
     "text": [
      "Overwriting negative_sampling_layer.py\n"
     ]
    }
   ],
   "source": [
    "%%writefile negative_sampling_layer.py\n",
    "\n",
    "from common.np import *  # import numpy as np\n",
    "from common.layers import Embedding, SigmoidWithLoss\n",
    "import collections\n",
    "\n",
    "\n",
    "class EmbeddingDot:\n",
    "    def __init__(self, W):\n",
    "        self.embed = Embedding(W)\n",
    "        self.params = self.embed.params\n",
    "        self.grads = self.embed.grads\n",
    "        self.cache = None\n",
    "\n",
    "    def forward(self, h, idx):\n",
    "        target_W = self.embed.forward(idx)\n",
    "        out = np.sum(target_W * h, axis=1)\n",
    "\n",
    "        self.cache = (h, target_W)\n",
    "        return out\n",
    "\n",
    "    def backward(self, dout):\n",
    "        h, target_W = self.cache\n",
    "        dout = dout.reshape(dout.shape[0], 1)\n",
    "\n",
    "        dtarget_W = dout * h\n",
    "        self.embed.backward(dtarget_W)\n",
    "        dh = dout * target_W\n",
    "        return dh\n",
    "\n",
    "\n",
    "class UnigramSampler:\n",
    "    def __init__(self, corpus, power, sample_size):\n",
    "        self.sample_size = sample_size\n",
    "        self.vocab_size = None\n",
    "        self.word_p = None\n",
    "\n",
    "        counts = collections.Counter()\n",
    "        for word_id in corpus:\n",
    "            counts[word_id] += 1\n",
    "\n",
    "        vocab_size = len(counts)\n",
    "        self.vocab_size = vocab_size\n",
    "\n",
    "        self.word_p = np.zeros(vocab_size)\n",
    "        for i in range(vocab_size):\n",
    "            self.word_p[i] = counts[i]\n",
    "\n",
    "        self.word_p = np.power(self.word_p, power)\n",
    "        self.word_p /= np.sum(self.word_p)\n",
    "\n",
    "    def get_negative_sample(self, target):\n",
    "        batch_size = target.shape[0]\n",
    "\n",
    "        if not GPU:\n",
    "            negative_sample = np.zeros((batch_size, self.sample_size), dtype=np.int32)\n",
    "\n",
    "            for i in range(batch_size):\n",
    "                p = self.word_p.copy()\n",
    "                target_idx = target[i]\n",
    "                p[target_idx] = 0\n",
    "                p /= p.sum()\n",
    "                negative_sample[i, :] = np.random.choice(self.vocab_size, size=self.sample_size, replace=False, p=p)\n",
    "        else:\n",
    "            # GPU(cupy）로 계산할 때는 속도를 우선한다.\n",
    "            # 부정적 예에 타깃이 포함될 수 있다.\n",
    "            negative_sample = np.random.choice(self.vocab_size, size=(batch_size, self.sample_size),\n",
    "                                               replace=True, p=self.word_p)\n",
    "\n",
    "        return negative_sample\n",
    "\n",
    "\n",
    "class NegativeSamplingLoss:\n",
    "    def __init__(self, W, corpus, power=0.75, sample_size=5):\n",
    "        self.sample_size = sample_size\n",
    "        self.sampler = UnigramSampler(corpus, power, sample_size)\n",
    "        self.loss_layers = [SigmoidWithLoss() for _ in range(sample_size + 1)]\n",
    "        self.embed_dot_layers = [EmbeddingDot(W) for _ in range(sample_size + 1)]\n",
    "\n",
    "        self.params, self.grads = [], []\n",
    "        for layer in self.embed_dot_layers:\n",
    "            self.params += layer.params\n",
    "            self.grads += layer.grads\n",
    "\n",
    "    def forward(self, h, target):\n",
    "        batch_size = target.shape[0]\n",
    "        negative_sample = self.sampler.get_negative_sample(target)\n",
    "\n",
    "        # 긍정적 예 순전파\n",
    "        score = self.embed_dot_layers[0].forward(h, target)\n",
    "        correct_label = np.ones(batch_size, dtype=np.int32)\n",
    "        loss = self.loss_layers[0].forward(score, correct_label)\n",
    "\n",
    "        # 부정적 예 순전파\n",
    "        negative_label = np.zeros(batch_size, dtype=np.int32)\n",
    "        for i in range(self.sample_size):\n",
    "            negative_target = negative_sample[:, i]\n",
    "            score = self.embed_dot_layers[1 + i].forward(h, negative_target)\n",
    "            loss += self.loss_layers[1 + i].forward(score, negative_label)\n",
    "\n",
    "        return loss\n",
    "\n",
    "    def backward(self, dout=1):\n",
    "        dh = 0\n",
    "        for l0, l1 in zip(self.loss_layers, self.embed_dot_layers):\n",
    "            dscore = l0.backward(dout)\n",
    "            dh += l1.backward(dscore)\n",
    "\n",
    "        return dh\n"
   ]
  },
  {
   "cell_type": "code",
   "execution_count": 10,
   "metadata": {},
   "outputs": [
    {
     "name": "stdout",
     "output_type": "stream",
     "text": [
      "Writing cbow.py\n"
     ]
    }
   ],
   "source": [
    "%%writefile cbow.py\n",
    "from common.np import *  # import numpy as np\n",
    "from common.layers import Embedding\n",
    "from negative_sampling_layer import NegativeSamplingLoss\n",
    "\n",
    "class CBOW:\n",
    "    def __init__(self, vocab_size, hidden_size, window_size, corpus):\n",
    "        V, H = vocab_size, hidden_size\n",
    "\n",
    "        # 가중치 초기화\n",
    "        W_in = 0.01 * np.random.randn(V, H).astype('f')\n",
    "        W_out = 0.01 * np.random.randn(V, H).astype('f')\n",
    "\n",
    "        # 계층 생성\n",
    "        self.in_layers = []\n",
    "        for i in range(2 * window_size):\n",
    "            layer = Embedding(W_in)  # Embedding 계층 사용\n",
    "            self.in_layers.append(layer)\n",
    "        self.ns_loss = NegativeSamplingLoss(W_out, corpus, power=0.75, sample_size=5)\n",
    "\n",
    "        # 모든 가중치와 기울기를 배열에 모은다.\n",
    "        layers = self.in_layers + [self.ns_loss]\n",
    "        self.params, self.grads = [], []\n",
    "        for layer in layers:\n",
    "            self.params += layer.params\n",
    "            self.grads += layer.grads\n",
    "\n",
    "        # 인스턴스 변수에 단어의 분산 표현을 저장한다.\n",
    "        self.word_vecs = W_in\n",
    "\n",
    "    def forward(self, contexts, target):\n",
    "        h = 0\n",
    "        for i, layer in enumerate(self.in_layers):\n",
    "            h += layer.forward(contexts[:, i])\n",
    "        h *= 1 / len(self.in_layers)\n",
    "        loss = self.ns_loss.forward(h, target)\n",
    "        return loss\n",
    "\n",
    "    def backward(self, dout=1):\n",
    "        dout = self.ns_loss.backward(dout)\n",
    "        dout *= 1 / len(self.in_layers)\n",
    "        for layer in self.in_layers:\n",
    "            layer.backward(dout)\n",
    "        return None"
   ]
  },
  {
   "cell_type": "code",
   "execution_count": 12,
   "metadata": {},
   "outputs": [
    {
     "name": "stdout",
     "output_type": "stream",
     "text": [
      "Overwriting skip_gram.py\n"
     ]
    }
   ],
   "source": [
    "%%writefile skip_gram.py\n",
    "from common.layers import *\n",
    "from negative_sampling_layer import NegativeSamplingLoss\n",
    "\n",
    "class SkipGram:\n",
    "    def __init__(self, vocab_size, hidden_size, window_size, corpus):\n",
    "        V, H = vocab_size, hidden_size\n",
    "        rn = np.random.randn\n",
    "\n",
    "        # 가중치 초기화\n",
    "        W_in = 0.01 * rn(V, H).astype('f')\n",
    "        W_out = 0.01 * rn(V, H).astype('f')\n",
    "\n",
    "        # 계층 생성\n",
    "        self.in_layer = Embedding(W_in)\n",
    "        self.loss_layers = []\n",
    "        for i in range(2 * window_size):\n",
    "            layer = NegativeSamplingLoss(W_out, corpus, power=0.75, sample_size=5)\n",
    "            self.loss_layers.append(layer)\n",
    "\n",
    "        # 모든 가중치와 기울기를 리스트에 모은다.\n",
    "        layers = [self.in_layer] + self.loss_layers\n",
    "        self.params, self.grads = [], []\n",
    "        for layer in layers:\n",
    "            self.params += layer.params\n",
    "            self.grads += layer.grads\n",
    "\n",
    "        # 인스턴스 변수에 단어의 분산 표현을 저장한다.\n",
    "        self.word_vecs = W_in\n",
    "\n",
    "    def forward(self, contexts, target):\n",
    "        h = self.in_layer.forward(target)\n",
    "\n",
    "        loss = 0\n",
    "        for i, layer in enumerate(self.loss_layers):\n",
    "            loss += layer.forward(h, contexts[:, i])\n",
    "        return loss\n",
    "\n",
    "    def backward(self, dout=1):\n",
    "        dh = 0\n",
    "        for i, layer in enumerate(self.loss_layers):\n",
    "            dh += layer.backward(dout)\n",
    "        self.in_layer.backward(dh)\n",
    "        return None"
   ]
  },
  {
   "cell_type": "code",
   "execution_count": 15,
   "metadata": {},
   "outputs": [
    {
     "name": "stdout",
     "output_type": "stream",
     "text": [
      "| 에폭 1 |  반복 1 / 9295 | 시간 0[s] | 손실 4.16\n",
      "| 에폭 1 |  반복 21 / 9295 | 시간 2[s] | 손실 4.16\n",
      "| 에폭 1 |  반복 41 / 9295 | 시간 4[s] | 손실 4.15\n",
      "| 에폭 1 |  반복 61 / 9295 | 시간 5[s] | 손실 4.13\n",
      "| 에폭 1 |  반복 81 / 9295 | 시간 7[s] | 손실 4.05\n",
      "| 에폭 1 |  반복 101 / 9295 | 시간 9[s] | 손실 3.93\n",
      "| 에폭 1 |  반복 121 / 9295 | 시간 11[s] | 손실 3.79\n",
      "| 에폭 1 |  반복 141 / 9295 | 시간 13[s] | 손실 3.64\n",
      "| 에폭 1 |  반복 161 / 9295 | 시간 15[s] | 손실 3.49\n",
      "| 에폭 1 |  반복 181 / 9295 | 시간 17[s] | 손실 3.37\n",
      "| 에폭 1 |  반복 201 / 9295 | 시간 18[s] | 손실 3.25\n",
      "| 에폭 1 |  반복 221 / 9295 | 시간 20[s] | 손실 3.16\n",
      "| 에폭 1 |  반복 241 / 9295 | 시간 22[s] | 손실 3.08\n",
      "| 에폭 1 |  반복 261 / 9295 | 시간 24[s] | 손실 3.02\n",
      "| 에폭 1 |  반복 281 / 9295 | 시간 26[s] | 손실 2.95\n",
      "| 에폭 1 |  반복 301 / 9295 | 시간 28[s] | 손실 2.92\n",
      "| 에폭 1 |  반복 321 / 9295 | 시간 29[s] | 손실 2.87\n",
      "| 에폭 1 |  반복 341 / 9295 | 시간 31[s] | 손실 2.84\n",
      "| 에폭 1 |  반복 361 / 9295 | 시간 33[s] | 손실 2.82\n",
      "| 에폭 1 |  반복 381 / 9295 | 시간 34[s] | 손실 2.78\n",
      "| 에폭 1 |  반복 401 / 9295 | 시간 36[s] | 손실 2.78\n",
      "| 에폭 1 |  반복 421 / 9295 | 시간 38[s] | 손실 2.74\n",
      "| 에폭 1 |  반복 441 / 9295 | 시간 40[s] | 손실 2.71\n",
      "| 에폭 1 |  반복 461 / 9295 | 시간 41[s] | 손실 2.74\n",
      "| 에폭 1 |  반복 481 / 9295 | 시간 43[s] | 손실 2.71\n",
      "| 에폭 1 |  반복 501 / 9295 | 시간 45[s] | 손실 2.69\n",
      "| 에폭 1 |  반복 521 / 9295 | 시간 47[s] | 손실 2.67\n",
      "| 에폭 1 |  반복 541 / 9295 | 시간 49[s] | 손실 2.66\n",
      "| 에폭 1 |  반복 561 / 9295 | 시간 51[s] | 손실 2.65\n",
      "| 에폭 1 |  반복 581 / 9295 | 시간 52[s] | 손실 2.65\n",
      "| 에폭 1 |  반복 601 / 9295 | 시간 54[s] | 손실 2.61\n",
      "| 에폭 1 |  반복 621 / 9295 | 시간 56[s] | 손실 2.63\n",
      "| 에폭 1 |  반복 641 / 9295 | 시간 58[s] | 손실 2.64\n",
      "| 에폭 1 |  반복 661 / 9295 | 시간 59[s] | 손실 2.65\n",
      "| 에폭 1 |  반복 681 / 9295 | 시간 61[s] | 손실 2.61\n",
      "| 에폭 1 |  반복 701 / 9295 | 시간 63[s] | 손실 2.61\n",
      "| 에폭 1 |  반복 721 / 9295 | 시간 65[s] | 손실 2.62\n",
      "| 에폭 1 |  반복 741 / 9295 | 시간 66[s] | 손실 2.58\n",
      "| 에폭 1 |  반복 761 / 9295 | 시간 68[s] | 손실 2.59\n",
      "| 에폭 1 |  반복 781 / 9295 | 시간 70[s] | 손실 2.59\n",
      "| 에폭 1 |  반복 801 / 9295 | 시간 72[s] | 손실 2.55\n",
      "| 에폭 1 |  반복 821 / 9295 | 시간 74[s] | 손실 2.60\n",
      "| 에폭 1 |  반복 841 / 9295 | 시간 75[s] | 손실 2.57\n",
      "| 에폭 1 |  반복 861 / 9295 | 시간 77[s] | 손실 2.57\n",
      "| 에폭 1 |  반복 881 / 9295 | 시간 80[s] | 손실 2.60\n",
      "| 에폭 1 |  반복 901 / 9295 | 시간 82[s] | 손실 2.56\n",
      "| 에폭 1 |  반복 921 / 9295 | 시간 83[s] | 손실 2.57\n",
      "| 에폭 1 |  반복 941 / 9295 | 시간 85[s] | 손실 2.60\n",
      "| 에폭 1 |  반복 961 / 9295 | 시간 87[s] | 손실 2.57\n",
      "| 에폭 1 |  반복 981 / 9295 | 시간 89[s] | 손실 2.58\n",
      "| 에폭 1 |  반복 1001 / 9295 | 시간 91[s] | 손실 2.53\n",
      "| 에폭 1 |  반복 1021 / 9295 | 시간 93[s] | 손실 2.56\n",
      "| 에폭 1 |  반복 1041 / 9295 | 시간 94[s] | 손실 2.53\n",
      "| 에폭 1 |  반복 1061 / 9295 | 시간 97[s] | 손실 2.54\n",
      "| 에폭 1 |  반복 1081 / 9295 | 시간 98[s] | 손실 2.53\n",
      "| 에폭 1 |  반복 1101 / 9295 | 시간 101[s] | 손실 2.56\n",
      "| 에폭 1 |  반복 1121 / 9295 | 시간 103[s] | 손실 2.51\n",
      "| 에폭 1 |  반복 1141 / 9295 | 시간 105[s] | 손실 2.53\n",
      "| 에폭 1 |  반복 1161 / 9295 | 시간 107[s] | 손실 2.54\n",
      "| 에폭 1 |  반복 1181 / 9295 | 시간 109[s] | 손실 2.52\n",
      "| 에폭 1 |  반복 1201 / 9295 | 시간 110[s] | 손실 2.55\n",
      "| 에폭 1 |  반복 1221 / 9295 | 시간 112[s] | 손실 2.53\n",
      "| 에폭 1 |  반복 1241 / 9295 | 시간 115[s] | 손실 2.52\n",
      "| 에폭 1 |  반복 1261 / 9295 | 시간 117[s] | 손실 2.55\n",
      "| 에폭 1 |  반복 1281 / 9295 | 시간 119[s] | 손실 2.49\n",
      "| 에폭 1 |  반복 1301 / 9295 | 시간 121[s] | 손실 2.53\n",
      "| 에폭 1 |  반복 1321 / 9295 | 시간 122[s] | 손실 2.52\n",
      "| 에폭 1 |  반복 1341 / 9295 | 시간 124[s] | 손실 2.53\n",
      "| 에폭 1 |  반복 1361 / 9295 | 시간 126[s] | 손실 2.55\n",
      "| 에폭 1 |  반복 1381 / 9295 | 시간 128[s] | 손실 2.52\n",
      "| 에폭 1 |  반복 1401 / 9295 | 시간 130[s] | 손실 2.51\n",
      "| 에폭 1 |  반복 1421 / 9295 | 시간 132[s] | 손실 2.53\n",
      "| 에폭 1 |  반복 1441 / 9295 | 시간 134[s] | 손실 2.50\n",
      "| 에폭 1 |  반복 1461 / 9295 | 시간 136[s] | 손실 2.52\n",
      "| 에폭 1 |  반복 1481 / 9295 | 시간 138[s] | 손실 2.53\n",
      "| 에폭 1 |  반복 1501 / 9295 | 시간 139[s] | 손실 2.51\n",
      "| 에폭 1 |  반복 1521 / 9295 | 시간 141[s] | 손실 2.52\n",
      "| 에폭 1 |  반복 1541 / 9295 | 시간 143[s] | 손실 2.50\n",
      "| 에폭 1 |  반복 1561 / 9295 | 시간 145[s] | 손실 2.51\n",
      "| 에폭 1 |  반복 1581 / 9295 | 시간 147[s] | 손실 2.53\n",
      "| 에폭 1 |  반복 1601 / 9295 | 시간 148[s] | 손실 2.50\n",
      "| 에폭 1 |  반복 1621 / 9295 | 시간 150[s] | 손실 2.49\n",
      "| 에폭 1 |  반복 1641 / 9295 | 시간 152[s] | 손실 2.50\n",
      "| 에폭 1 |  반복 1661 / 9295 | 시간 154[s] | 손실 2.51\n",
      "| 에폭 1 |  반복 1681 / 9295 | 시간 156[s] | 손실 2.51\n",
      "| 에폭 1 |  반복 1701 / 9295 | 시간 158[s] | 손실 2.52\n",
      "| 에폭 1 |  반복 1721 / 9295 | 시간 160[s] | 손실 2.48\n",
      "| 에폭 1 |  반복 1741 / 9295 | 시간 162[s] | 손실 2.52\n",
      "| 에폭 1 |  반복 1761 / 9295 | 시간 164[s] | 손실 2.49\n",
      "| 에폭 1 |  반복 1781 / 9295 | 시간 166[s] | 손실 2.52\n",
      "| 에폭 1 |  반복 1801 / 9295 | 시간 168[s] | 손실 2.52\n",
      "| 에폭 1 |  반복 1821 / 9295 | 시간 170[s] | 손실 2.48\n",
      "| 에폭 1 |  반복 1841 / 9295 | 시간 172[s] | 손실 2.51\n",
      "| 에폭 1 |  반복 1861 / 9295 | 시간 174[s] | 손실 2.49\n",
      "| 에폭 1 |  반복 1881 / 9295 | 시간 176[s] | 손실 2.51\n",
      "| 에폭 1 |  반복 1901 / 9295 | 시간 178[s] | 손실 2.50\n",
      "| 에폭 1 |  반복 1921 / 9295 | 시간 180[s] | 손실 2.52\n",
      "| 에폭 1 |  반복 1941 / 9295 | 시간 182[s] | 손실 2.48\n",
      "| 에폭 1 |  반복 1961 / 9295 | 시간 184[s] | 손실 2.49\n",
      "| 에폭 1 |  반복 1981 / 9295 | 시간 186[s] | 손실 2.51\n",
      "| 에폭 1 |  반복 2001 / 9295 | 시간 188[s] | 손실 2.50\n",
      "| 에폭 1 |  반복 2021 / 9295 | 시간 189[s] | 손실 2.52\n",
      "| 에폭 1 |  반복 2041 / 9295 | 시간 191[s] | 손실 2.48\n",
      "| 에폭 1 |  반복 2061 / 9295 | 시간 193[s] | 손실 2.48\n"
     ]
    },
    {
     "ename": "KeyboardInterrupt",
     "evalue": "",
     "output_type": "error",
     "traceback": [
      "\u001b[1;31m---------------------------------------------------------------------------\u001b[0m",
      "\u001b[1;31mKeyboardInterrupt\u001b[0m                         Traceback (most recent call last)",
      "\u001b[1;32m<ipython-input-15-4fee81235891>\u001b[0m in \u001b[0;36m<module>\u001b[1;34m\u001b[0m\n\u001b[0;32m     35\u001b[0m \u001b[1;33m\u001b[0m\u001b[0m\n\u001b[0;32m     36\u001b[0m \u001b[1;31m# 학습 시작\u001b[0m\u001b[1;33m\u001b[0m\u001b[1;33m\u001b[0m\u001b[1;33m\u001b[0m\u001b[0m\n\u001b[1;32m---> 37\u001b[1;33m \u001b[0mtrainer\u001b[0m\u001b[1;33m.\u001b[0m\u001b[0mfit\u001b[0m\u001b[1;33m(\u001b[0m\u001b[0mcontexts\u001b[0m\u001b[1;33m,\u001b[0m \u001b[0mtarget\u001b[0m\u001b[1;33m,\u001b[0m \u001b[0mmax_epoch\u001b[0m\u001b[1;33m,\u001b[0m \u001b[0mbatch_size\u001b[0m\u001b[1;33m)\u001b[0m\u001b[1;33m\u001b[0m\u001b[1;33m\u001b[0m\u001b[0m\n\u001b[0m\u001b[0;32m     38\u001b[0m \u001b[0mtrainer\u001b[0m\u001b[1;33m.\u001b[0m\u001b[0mplot\u001b[0m\u001b[1;33m(\u001b[0m\u001b[1;33m)\u001b[0m\u001b[1;33m\u001b[0m\u001b[1;33m\u001b[0m\u001b[0m\n\u001b[0;32m     39\u001b[0m \u001b[1;33m\u001b[0m\u001b[0m\n",
      "\u001b[1;32m~\\jupyter\\deeplearning-scratch\\deep-learning-scratch-study\\common\\trainer.py\u001b[0m in \u001b[0;36mfit\u001b[1;34m(self, x, t, max_epoch, batch_size, max_grad, eval_interval)\u001b[0m\n\u001b[0;32m     42\u001b[0m                 \u001b[1;32mif\u001b[0m \u001b[0mmax_grad\u001b[0m \u001b[1;32mis\u001b[0m \u001b[1;32mnot\u001b[0m \u001b[1;32mNone\u001b[0m\u001b[1;33m:\u001b[0m\u001b[1;33m\u001b[0m\u001b[1;33m\u001b[0m\u001b[0m\n\u001b[0;32m     43\u001b[0m                     \u001b[0mclip_grads\u001b[0m\u001b[1;33m(\u001b[0m\u001b[0mgrads\u001b[0m\u001b[1;33m,\u001b[0m \u001b[0mmax_grad\u001b[0m\u001b[1;33m)\u001b[0m\u001b[1;33m\u001b[0m\u001b[1;33m\u001b[0m\u001b[0m\n\u001b[1;32m---> 44\u001b[1;33m                 \u001b[0moptimizer\u001b[0m\u001b[1;33m.\u001b[0m\u001b[0mupdate\u001b[0m\u001b[1;33m(\u001b[0m\u001b[0mparams\u001b[0m\u001b[1;33m,\u001b[0m \u001b[0mgrads\u001b[0m\u001b[1;33m)\u001b[0m\u001b[1;33m\u001b[0m\u001b[1;33m\u001b[0m\u001b[0m\n\u001b[0m\u001b[0;32m     45\u001b[0m                 \u001b[0mtotal_loss\u001b[0m \u001b[1;33m+=\u001b[0m \u001b[0mloss\u001b[0m\u001b[1;33m\u001b[0m\u001b[1;33m\u001b[0m\u001b[0m\n\u001b[0;32m     46\u001b[0m                 \u001b[0mloss_count\u001b[0m \u001b[1;33m+=\u001b[0m \u001b[1;36m1\u001b[0m\u001b[1;33m\u001b[0m\u001b[1;33m\u001b[0m\u001b[0m\n",
      "\u001b[1;32m~\\jupyter\\deeplearning-scratch\\deep-learning-scratch-study\\common\\optimizer.py\u001b[0m in \u001b[0;36mupdate\u001b[1;34m(self, params, grads)\u001b[0m\n\u001b[0;32m    126\u001b[0m             \u001b[0mself\u001b[0m\u001b[1;33m.\u001b[0m\u001b[0mv\u001b[0m\u001b[1;33m[\u001b[0m\u001b[0mi\u001b[0m\u001b[1;33m]\u001b[0m \u001b[1;33m+=\u001b[0m \u001b[1;33m(\u001b[0m\u001b[1;36m1\u001b[0m \u001b[1;33m-\u001b[0m \u001b[0mself\u001b[0m\u001b[1;33m.\u001b[0m\u001b[0mbeta2\u001b[0m\u001b[1;33m)\u001b[0m \u001b[1;33m*\u001b[0m \u001b[1;33m(\u001b[0m\u001b[0mgrads\u001b[0m\u001b[1;33m[\u001b[0m\u001b[0mi\u001b[0m\u001b[1;33m]\u001b[0m\u001b[1;33m**\u001b[0m\u001b[1;36m2\u001b[0m \u001b[1;33m-\u001b[0m \u001b[0mself\u001b[0m\u001b[1;33m.\u001b[0m\u001b[0mv\u001b[0m\u001b[1;33m[\u001b[0m\u001b[0mi\u001b[0m\u001b[1;33m]\u001b[0m\u001b[1;33m)\u001b[0m\u001b[1;33m\u001b[0m\u001b[1;33m\u001b[0m\u001b[0m\n\u001b[0;32m    127\u001b[0m \u001b[1;33m\u001b[0m\u001b[0m\n\u001b[1;32m--> 128\u001b[1;33m             \u001b[0mparams\u001b[0m\u001b[1;33m[\u001b[0m\u001b[0mi\u001b[0m\u001b[1;33m]\u001b[0m \u001b[1;33m-=\u001b[0m \u001b[0mlr_t\u001b[0m \u001b[1;33m*\u001b[0m \u001b[0mself\u001b[0m\u001b[1;33m.\u001b[0m\u001b[0mm\u001b[0m\u001b[1;33m[\u001b[0m\u001b[0mi\u001b[0m\u001b[1;33m]\u001b[0m \u001b[1;33m/\u001b[0m \u001b[1;33m(\u001b[0m\u001b[0mnp\u001b[0m\u001b[1;33m.\u001b[0m\u001b[0msqrt\u001b[0m\u001b[1;33m(\u001b[0m\u001b[0mself\u001b[0m\u001b[1;33m.\u001b[0m\u001b[0mv\u001b[0m\u001b[1;33m[\u001b[0m\u001b[0mi\u001b[0m\u001b[1;33m]\u001b[0m\u001b[1;33m)\u001b[0m \u001b[1;33m+\u001b[0m \u001b[1;36m1e-7\u001b[0m\u001b[1;33m)\u001b[0m\u001b[1;33m\u001b[0m\u001b[1;33m\u001b[0m\u001b[0m\n\u001b[0m",
      "\u001b[1;31mKeyboardInterrupt\u001b[0m: "
     ]
    }
   ],
   "source": [
    "import numpy as np\n",
    "from common import config\n",
    "# GPU에서 실행하려면 아래 주석을 해제하세요(CuPy 필요).\n",
    "# ===============================================\n",
    "config.GPU = False\n",
    "# ===============================================\n",
    "import pickle\n",
    "from common.trainer import Trainer\n",
    "from common.optimizer import Adam\n",
    "from cbow import CBOW\n",
    "from skip_gram import SkipGram\n",
    "from common.util import create_contexts_target, to_cpu, to_gpu\n",
    "from dataset import ptb\n",
    "\n",
    "\n",
    "# 하이퍼파라미터 설정\n",
    "window_size = 5\n",
    "hidden_size = 100\n",
    "batch_size = 100\n",
    "max_epoch = 10\n",
    "\n",
    "# 데이터 읽기\n",
    "corpus, word_to_id, id_to_word = ptb.load_data('train')\n",
    "vocab_size = len(word_to_id)\n",
    "\n",
    "contexts, target = create_contexts_target(corpus, window_size)\n",
    "if config.GPU:\n",
    "    contexts, target = to_gpu(contexts), to_gpu(target)\n",
    "\n",
    "# 모델 등 생성\n",
    "model = CBOW(vocab_size, hidden_size, window_size, corpus)\n",
    "# model = SkipGram(vocab_size, hidden_size, window_size, corpus)\n",
    "optimizer = Adam()\n",
    "trainer = Trainer(model, optimizer)\n",
    "\n",
    "# 학습 시작\n",
    "trainer.fit(contexts, target, max_epoch, batch_size)\n",
    "trainer.plot()\n",
    "\n",
    "# 나중에 사용할 수 있도록 필요한 데이터 저장\n",
    "word_vecs = model.word_vecs\n",
    "if config.GPU:\n",
    "    word_vecs = to_cpu(word_vecs)\n",
    "params = {}\n",
    "params['word_vecs'] = word_vecs.astype(np.float16)\n",
    "params['word_to_id'] = word_to_id\n",
    "params['id_to_word'] = id_to_word\n",
    "pkl_file = 'cbow_params.pkl'  # or 'skipgram_params.pkl'\n",
    "with open(pkl_file, 'wb') as f:\n",
    "    pickle.dump(params, f, -1)"
   ]
  },
  {
   "cell_type": "code",
   "execution_count": null,
   "metadata": {},
   "outputs": [],
   "source": []
  }
 ],
 "metadata": {
  "kernelspec": {
   "display_name": "Python 3",
   "language": "python",
   "name": "python3"
  },
  "language_info": {
   "codemirror_mode": {
    "name": "ipython",
    "version": 3
   },
   "file_extension": ".py",
   "mimetype": "text/x-python",
   "name": "python",
   "nbconvert_exporter": "python",
   "pygments_lexer": "ipython3",
   "version": "3.7.7"
  }
 },
 "nbformat": 4,
 "nbformat_minor": 4
}
